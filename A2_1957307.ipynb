{
  "nbformat": 4,
  "nbformat_minor": 0,
  "metadata": {
    "colab": {
      "provenance": [],
      "authorship_tag": "ABX9TyPxCwAeeGaRIp8LHGQhwspa",
      "include_colab_link": true
    },
    "kernelspec": {
      "name": "python3",
      "display_name": "Python 3"
    },
    "language_info": {
      "name": "python"
    }
  },
  "cells": [
    {
      "cell_type": "markdown",
      "metadata": {
        "id": "view-in-github",
        "colab_type": "text"
      },
      "source": [
        "<a href=\"https://colab.research.google.com/github/xsayaa/AI/blob/main/A2_1957307.ipynb\" target=\"_parent\"><img src=\"https://colab.research.google.com/assets/colab-badge.svg\" alt=\"Open In Colab\"/></a>"
      ]
    },
    {
      "cell_type": "markdown",
      "source": [
        "#A2 Python Excercises\n",
        "##Sadya Martínez 1957307 IB\n",
        "###Thursday N4"
      ],
      "metadata": {
        "id": "gRNtgjLMQ-hX"
      }
    },
    {
      "cell_type": "code",
      "execution_count": 7,
      "metadata": {
        "colab": {
          "base_uri": "https://localhost:8080/"
        },
        "id": "mOEAxImyQ7ON",
        "outputId": "fc4ce59e-3cfc-45de-ae7c-6fef608d8394"
      },
      "outputs": [
        {
          "output_type": "stream",
          "name": "stdout",
          "text": [
            "Requirement already satisfied: python-docx in /usr/local/lib/python3.10/dist-packages (0.8.11)\n",
            "Requirement already satisfied: lxml>=2.3.2 in /usr/local/lib/python3.10/dist-packages (from python-docx) (4.9.3)\n",
            "Number of paragraphs: 1\n",
            "Number of sentences: 2\n",
            "Number of words: 39\n",
            "Average word length: 4.90\n",
            "Most common words:\n",
            "the: 4\n",
            "is: 2\n",
            "patient: 2\n"
          ]
        }
      ],
      "source": [
        "#Text Analysis Tool\n",
        "!pip install python-docx\n",
        "\n",
        "from docx import Document\n",
        "from collections import Counter\n",
        "import re\n",
        "\n",
        "def read_docx(file_path):\n",
        "    doc = Document(file_path)\n",
        "    full_text = []\n",
        "    for paragraph in doc.paragraphs:\n",
        "        full_text.append(paragraph.text)\n",
        "    return '\\n'.join(full_text)\n",
        "\n",
        "def analyze_text(text):\n",
        "    paragraphs = [p for p in text.split('\\n') if p] #split text into paragraphs\n",
        "\n",
        "    sentences = re.split(r'[.]', text)\n",
        "    sentences = [s for s in sentences if s]\n",
        "\n",
        "    words = re.findall(r'\\b\\w+\\b', text.lower()) #used for split text\n",
        "\n",
        "    avg_word_length = sum(len(word) for word in words) / len(words)\n",
        "\n",
        "    word_freq = Counter(words)\n",
        "\n",
        "    print(f\"Number of paragraphs: {len(paragraphs)}\")\n",
        "    print(f\"Number of sentences: {len(sentences)}\")\n",
        "    print(f\"Number of words: {len(words)}\")\n",
        "    print(f\"Average word length: {avg_word_length:.2f}\")\n",
        "    print(\"Most common words:\")\n",
        "    for word, freq in word_freq.most_common(3):\n",
        "        print(f\"{word}: {freq}\")\n",
        "\n",
        "if __name__ == \"__main__\":\n",
        "    text_content = read_docx(\"A2.docx\")\n",
        "    analyze_text(text_content)\n",
        "\n"
      ]
    },
    {
      "cell_type": "code",
      "source": [
        "#Hangman Game\n",
        "import random\n",
        "\n",
        "def hangman():\n",
        "    word_list = ['python', 'biomedicine', 'engineering', 'artificial', 'intelligence']\n",
        "    random_word = random.choice(word_list)\n",
        "    guessed_letters = []\n",
        "    attempts = 9\n",
        "    guessed_word = ['_'] * len(random_word)\n",
        "\n",
        "    print(\"Welcome!\")\n",
        "    print(\" \".join(guessed_word))\n",
        "\n",
        "    while attempts > 0 and '_' in guessed_word:\n",
        "        guess = input(\"Guess a letter: \").lower()\n",
        "\n",
        "        if len(guess) != 1 or not guess.isalpha():\n",
        "            print(\"Not valid\")\n",
        "            continue\n",
        "\n",
        "        if guess in guessed_letters:\n",
        "            print(f\"You've already write the letter {guess}.\")\n",
        "            continue\n",
        "\n",
        "        if guess in random_word:\n",
        "            for index, letter in enumerate(random_word):\n",
        "                if letter == guess:\n",
        "                    guessed_word[index] = guess\n",
        "            print(\"Correct!!!\")\n",
        "        else:\n",
        "            attempts -= 1\n",
        "            print(f\"Sorry:( You have {attempts} {'attempt' if attempts == 1 else 'attempts'} left.\")\n",
        "\n",
        "        guessed_letters.append(guess)\n",
        "        print(\" \".join(guessed_word))\n",
        "\n",
        "    if '_' not in guessed_word:\n",
        "        print(\"Hooray!!! You guessed it correctly :)\")\n",
        "    else:\n",
        "        print(f\"You're out of attempts ;( It was: {random_word}.\")\n",
        "\n",
        "if __name__ == \"__main__\":\n",
        "    hangman()\n"
      ],
      "metadata": {
        "colab": {
          "base_uri": "https://localhost:8080/"
        },
        "id": "7coD_vCPTRnY",
        "outputId": "fee39e10-6b7e-4354-e2ab-1d251728d9d1"
      },
      "execution_count": 8,
      "outputs": [
        {
          "output_type": "stream",
          "name": "stdout",
          "text": [
            "Welcome to Hangman!\n",
            "_ _ _ _ _ _ _ _ _ _ _\n",
            "Guess a letter: a\n",
            "Sorry:( You have 8 attempts left.\n",
            "_ _ _ _ _ _ _ _ _ _ _\n",
            "Guess a letter: e\n",
            "Correct!!!\n",
            "e _ _ _ _ e e _ _ _ _\n",
            "Guess a letter: n\n",
            "Correct!!!\n",
            "e n _ _ n e e _ _ n _\n",
            "Guess a letter: g\n",
            "Correct!!!\n",
            "e n g _ n e e _ _ n g\n",
            "Guess a letter: i\n",
            "Correct!!!\n",
            "e n g i n e e _ i n g\n",
            "Guess a letter: r\n",
            "Correct!!!\n",
            "e n g i n e e r i n g\n",
            "Hooray!!! You guessed it correctly :)\n"
          ]
        }
      ]
    },
    {
      "cell_type": "code",
      "source": [
        "#Number Guessing Name\n",
        "import random\n",
        "\n",
        "def number_guessing_game():\n",
        "    target_number = random.randint(1, 100)\n",
        "    guess = None\n",
        "    attempts = 0\n",
        "\n",
        "    print(\"Welcome!\")\n",
        "    print(\"Try to guess the number I'm thinking!\")\n",
        "\n",
        "    while guess != target_number:\n",
        "        try:\n",
        "            guess = int(input(\"Enter your guess: \"))\n",
        "\n",
        "            if 1 <= guess <= 100:  # Check if it is between 1 and 100\n",
        "                if guess < target_number:\n",
        "                    print(\"Too low! Again!\")\n",
        "                elif guess > target_number:\n",
        "                    print(\"Too high! Again!\")\n",
        "                attempts += 1\n",
        "            else:\n",
        "                print(\"Spoiler: It is in the range from 1 to 100\")\n",
        "        except ValueError:\n",
        "            print(\"Not valid\")\n",
        "\n",
        "    print(f\"Yayyy!!! You guessed it in {attempts} attempts.\")\n",
        "\n",
        "if __name__ == \"__main__\":\n",
        "    number_guessing_game()\n"
      ],
      "metadata": {
        "colab": {
          "base_uri": "https://localhost:8080/"
        },
        "id": "ftxfCpOAV8Li",
        "outputId": "69639a72-53cb-4ea8-933d-c604d206aaaf"
      },
      "execution_count": 14,
      "outputs": [
        {
          "output_type": "stream",
          "name": "stdout",
          "text": [
            "Welcome!\n",
            "Try to guess the number I'm thinking!\n",
            "Enter your guess: 1000\n",
            "Spoiler: It is in the range from 1 to 100\n",
            "Enter your guess: 89\n",
            "Too high! Again!\n",
            "Enter your guess: 50\n",
            "Too high! Again!\n",
            "Enter your guess: 20\n",
            "Too low! Again!\n",
            "Enter your guess: 40\n",
            "Too high! Again!\n",
            "Enter your guess: 30\n",
            "Too low! Again!\n",
            "Enter your guess: 35\n",
            "Too low! Again!\n",
            "Enter your guess: 36\n",
            "Too low! Again!\n",
            "Enter your guess: 38\n",
            "Too high! Again!\n",
            "Enter your guess: 37\n",
            "Yayyy!!! You guessed it in 9 attempts.\n"
          ]
        }
      ]
    }
  ]
}